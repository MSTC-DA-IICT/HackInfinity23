{
  "nbformat": 4,
  "nbformat_minor": 0,
  "metadata": {
    "colab": {
      "provenance": []
    },
    "kernelspec": {
      "name": "python3",
      "display_name": "Python 3"
    },
    "language_info": {
      "name": "python"
    }
  },
  "cells": [
    {
      "cell_type": "code",
      "execution_count": null,
      "metadata": {
        "colab": {
          "base_uri": "https://localhost:8080/"
        },
        "id": "0h6dmQxbS5P3",
        "outputId": "8f72ebbc-dc1b-43f7-d184-7b36451131a5"
      },
      "outputs": [
        {
          "output_type": "stream",
          "name": "stdout",
          "text": [
            "Epoch 1/5\n",
            "131/144 [==========================>...] - ETA: 0s - loss: 0.0872"
          ]
        },
        {
          "output_type": "stream",
          "name": "stderr",
          "text": [
            "WARNING:tensorflow:Your input ran out of data; interrupting training. Make sure that your dataset or generator can generate at least `steps_per_epoch * epochs` batches (in this case, 720 batches). You may need to use the repeat() function when building your dataset.\n"
          ]
        },
        {
          "output_type": "stream",
          "name": "stdout",
          "text": [
            "144/144 [==============================] - 3s 7ms/step - loss: 0.0822\n",
            "21/36 [================>.............] - ETA: 0s - loss: 0.1116 "
          ]
        },
        {
          "output_type": "stream",
          "name": "stderr",
          "text": [
            "WARNING:tensorflow:Your input ran out of data; interrupting training. Make sure that your dataset or generator can generate at least `steps_per_epoch * epochs` batches (in this case, 36 batches). You may need to use the repeat() function when building your dataset.\n"
          ]
        },
        {
          "output_type": "stream",
          "name": "stdout",
          "text": [
            "36/36 [==============================] - 1s 3ms/step - loss: 0.1189\n",
            "1/1 [==============================] - 0s 416ms/step\n",
            "Prediction: [[336.8388]]\n",
            "MSE: 0.1188925951719284\n"
          ]
        }
      ],
      "source": [
        "import numpy as np\n",
        "import pandas as pd\n",
        "import tensorflow as tf\n",
        "from sklearn.preprocessing import MinMaxScaler\n",
        "\n",
        "# Load the stock price data\n",
        "data = pd.read_csv(\"ASIANPAINT.csv\")\n",
        "data  = data[[\"Close\"]].iloc[:180]\n",
        "\n",
        "# Normalize the data\n",
        "scaler = MinMaxScaler(feature_range=(0, 1))\n",
        "data = scaler.fit_transform(data)\n",
        "\n",
        "# Split the data into training and test sets\n",
        "train_data = data[:int(len(data) * 0.8)]\n",
        "test_data = data[int(len(data) * 0.8):]\n",
        "\n",
        "# Define the lookback and batch size\n",
        "lookback = 5\n",
        "batch_size = 1\n",
        "\n",
        "# Create a generator function to generate batches of training data\n",
        "def generator(data, lookback, batch_size):\n",
        "    i = 0\n",
        "    while i + lookback < len(data):\n",
        "        x = np.array([data[i:i+lookback]])\n",
        "        y = np.array([data[i+lookback]])\n",
        "        i += 1\n",
        "        yield x, y\n",
        "\n",
        "# Create the RNN model\n",
        "model = tf.keras.Sequential()\n",
        "model.add(tf.keras.layers.GRU(20, input_shape=(lookback, 1)))\n",
        "model.add(tf.keras.layers.Dense(1))\n",
        "\n",
        "# Compile the model\n",
        "model.compile(optimizer='adam', loss='mean_squared_error')\n",
        "\n",
        "# Train the model\n",
        "train_gen = generator(train_data, lookback, batch_size)\n",
        "model.fit(train_gen, epochs=5, steps_per_epoch=len(train_data) // batch_size)\n",
        "\n",
        "# Evaluate the model on the test data\n",
        "test_gen = generator(test_data, lookback, batch_size)\n",
        "mse = model.evaluate(test_gen, steps=len(test_data) // batch_size)\n",
        "\n",
        "# Make predictions on new data\n",
        "x = np.array([data[-lookback:]])\n",
        "prediction = model.predict(x)\n",
        "prediction = scaler.inverse_transform(prediction)\n",
        "print(\"Prediction:\", prediction)\n",
        "print(\"MSE:\", mse)"
      ]
    },
    {
      "cell_type": "code",
      "source": [
        "prediction[0][0]"
      ],
      "metadata": {
        "colab": {
          "base_uri": "https://localhost:8080/"
        },
        "id": "ufJ8MlQvgHw1",
        "outputId": "773f581c-06ae-4ee0-b516-b8f5615285c6"
      },
      "execution_count": null,
      "outputs": [
        {
          "output_type": "execute_result",
          "data": {
            "text/plain": [
              "336.8388"
            ]
          },
          "metadata": {},
          "execution_count": 34
        }
      ]
    },
    {
      "cell_type": "code",
      "source": [
        "new_model = tf.keras.models.load_model('/content/drive/MyDrive/hacko')"
      ],
      "metadata": {
        "id": "8xWHrJ9oeqXC"
      },
      "execution_count": null,
      "outputs": []
    },
    {
      "cell_type": "code",
      "source": [
        "model.save('fin.h5')"
      ],
      "metadata": {
        "id": "2f-mBBYmdvB1"
      },
      "execution_count": null,
      "outputs": []
    },
    {
      "cell_type": "code",
      "source": [
        "tr = pd.read_csv(\"ASIANPAINT.csv\")"
      ],
      "metadata": {
        "id": "CDfB4qEyYOqa"
      },
      "execution_count": null,
      "outputs": []
    },
    {
      "cell_type": "code",
      "source": [
        "tr['Close']"
      ],
      "metadata": {
        "colab": {
          "base_uri": "https://localhost:8080/"
        },
        "id": "WXrFVSzRYVRg",
        "outputId": "ae4b7d4b-6cdf-4e7c-a0da-ceb09458280e"
      },
      "execution_count": null,
      "outputs": [
        {
          "output_type": "execute_result",
          "data": {
            "text/plain": [
              "0        381.65\n",
              "1        385.55\n",
              "2        383.00\n",
              "3        377.50\n",
              "4        385.70\n",
              "         ...   \n",
              "5301    2557.90\n",
              "5302    2574.35\n",
              "5303    2614.55\n",
              "5304    2613.45\n",
              "5305    2536.40\n",
              "Name: Close, Length: 5306, dtype: float64"
            ]
          },
          "metadata": {},
          "execution_count": 9
        }
      ]
    },
    {
      "cell_type": "code",
      "source": [],
      "metadata": {
        "id": "hEjzeINKTM94"
      },
      "execution_count": null,
      "outputs": []
    }
  ]
}